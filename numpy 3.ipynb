{
  "nbformat": 4,
  "nbformat_minor": 0,
  "metadata": {
    "colab": {
      "provenance": []
    },
    "kernelspec": {
      "name": "python3",
      "display_name": "Python 3"
    },
    "language_info": {
      "name": "python"
    }
  },
  "cells": [
    {
      "cell_type": "code",
      "execution_count": 1,
      "metadata": {
        "colab": {
          "base_uri": "https://localhost:8080/"
        },
        "id": "glTf1JNpAVx7",
        "outputId": "10e34cdb-b75e-4287-a96c-d9fd775ef59f"
      },
      "outputs": [
        {
          "output_type": "stream",
          "name": "stdout",
          "text": [
            "(array([1, 4]),)\n"
          ]
        }
      ],
      "source": [
        "#index retrieval\n",
        "import numpy as np\n",
        "arr=np.array([1,6,2,7,6,4])\n",
        "x=np.where(arr==6)\n",
        "print(x)"
      ]
    },
    {
      "cell_type": "code",
      "source": [
        "arr=np.array([0,1,2,2,7,8,9])\n",
        "x=np.searchsorted(arr,3,side='left')\n",
        "print(x)"
      ],
      "metadata": {
        "colab": {
          "base_uri": "https://localhost:8080/"
        },
        "id": "JVJhbOEeCwjp",
        "outputId": "bcaf7415-24e1-4cdb-a681-179ea9d501a1"
      },
      "execution_count": 2,
      "outputs": [
        {
          "output_type": "stream",
          "name": "stdout",
          "text": [
            "4\n"
          ]
        }
      ]
    },
    {
      "cell_type": "code",
      "source": [
        "arr=np.array([0,1,2,2,7,8,9])\n",
        "x=np.searchsorted(arr,8,side='left')\n",
        "print(x)"
      ],
      "metadata": {
        "colab": {
          "base_uri": "https://localhost:8080/"
        },
        "id": "2kEgsayUEH9R",
        "outputId": "d5a73ee4-8a65-4980-848d-b8c0fe35081b"
      },
      "execution_count": 4,
      "outputs": [
        {
          "output_type": "stream",
          "name": "stdout",
          "text": [
            "5\n"
          ]
        }
      ]
    },
    {
      "cell_type": "code",
      "source": [
        "print(np.sort(arr))"
      ],
      "metadata": {
        "colab": {
          "base_uri": "https://localhost:8080/"
        },
        "id": "hUTRoWQYF7Ex",
        "outputId": "5b339566-2628-4c80-c4bb-9305761fbea1"
      },
      "execution_count": 5,
      "outputs": [
        {
          "output_type": "stream",
          "name": "stdout",
          "text": [
            "[0 1 2 2 7 8 9]\n"
          ]
        }
      ]
    },
    {
      "cell_type": "code",
      "source": [
        "#boolean indexing\n",
        "arr=np.array([31,78,69,88])\n",
        "x=[False,True,False,True]\n",
        "newarr=arr[x]\n",
        "print(x)\n",
        "print(newarr)"
      ],
      "metadata": {
        "colab": {
          "base_uri": "https://localhost:8080/"
        },
        "id": "p8DdHi3sG95w",
        "outputId": "eee487fc-8ae1-4571-d428-d5dd94e94ab8"
      },
      "execution_count": 7,
      "outputs": [
        {
          "output_type": "stream",
          "name": "stdout",
          "text": [
            "[False, True, False, True]\n",
            "[78 88]\n"
          ]
        }
      ]
    },
    {
      "cell_type": "code",
      "source": [
        "#boolean indexing\n",
        "filter_arr=arr<70\n",
        "newarr=arr[filter_arr]\n",
        "print(filter_arr)\n",
        "print(newarr)"
      ],
      "metadata": {
        "colab": {
          "base_uri": "https://localhost:8080/"
        },
        "id": "7WoYO0g7IaDa",
        "outputId": "4d4970d4-7fce-4d8c-97ac-875b8e867ae6"
      },
      "execution_count": 8,
      "outputs": [
        {
          "output_type": "stream",
          "name": "stdout",
          "text": [
            "[ True False  True False]\n",
            "[31 69]\n"
          ]
        }
      ]
    }
  ]
}