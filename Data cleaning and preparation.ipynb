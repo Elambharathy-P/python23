{
 "cells": [
  {
   "cell_type": "code",
   "execution_count": 8,
   "id": "7e253a89",
   "metadata": {},
   "outputs": [
    {
     "name": "stdout",
     "output_type": "stream",
     "text": [
      "        one       two     three\n",
      "a  1.098235 -0.711045  0.159874\n",
      "b  0.633903 -1.026771  1.329268\n",
      "c       NaN       NaN       NaN\n",
      "d -1.289081  0.286735  1.571529\n",
      "e       NaN       NaN       NaN\n",
      "f -0.823829 -1.872779 -0.420967\n"
     ]
    }
   ],
   "source": [
    "import pandas as pd\n",
    "import numpy as np\n",
    "df=pd.DataFrame(np.random.randn(4,3),index=['a','b','d','f'],columns=['one','two','three'])\n",
    "df=df.reindex(['a','b','c','d','e','f'])\n",
    "print(df)"
   ]
  },
  {
   "cell_type": "code",
   "execution_count": 9,
   "id": "32836a90",
   "metadata": {},
   "outputs": [
    {
     "name": "stdout",
     "output_type": "stream",
     "text": [
      "        one       two     three\n",
      "a  1.098235 -0.711045  0.159874\n",
      "b  0.633903 -1.026771  1.329268\n",
      "d -1.289081  0.286735  1.571529\n",
      "f -0.823829 -1.872779 -0.420967\n",
      "\n"
     ]
    }
   ],
   "source": [
    "print(df.dropna())\n",
    "print()"
   ]
  },
  {
   "cell_type": "code",
   "execution_count": 12,
   "id": "b73e12b8",
   "metadata": {},
   "outputs": [
    {
     "name": "stdout",
     "output_type": "stream",
     "text": [
      "        one       two     three\n",
      "a -0.247723  0.188860 -1.363337\n",
      "c  0.979806  0.705612  0.793037\n",
      "d -1.238819  0.168261  0.317173\n",
      "f  0.102238  0.902884 -0.111798\n",
      "        one       two     three\n",
      "a -0.247723  0.188860 -1.363337\n",
      "b       NaN       NaN       NaN\n",
      "c  0.979806  0.705612  0.793037\n",
      "        one       two     three\n",
      "a -0.247723  0.188860 -1.363337\n",
      "b  0.000000  0.000000  0.000000\n",
      "c  0.979806  0.705612  0.793037\n"
     ]
    }
   ],
   "source": [
    "df=pd.DataFrame(np.random.randn(4,3),index=['a','c','d','f'],columns=['one','two','three'])\n",
    "print(df)\n",
    "df=df.reindex(['a','b','c'])\n",
    "print(df)\n",
    "print(df.fillna(0))"
   ]
  },
  {
   "cell_type": "code",
   "execution_count": 24,
   "id": "6fd8edb5",
   "metadata": {},
   "outputs": [
    {
     "name": "stdout",
     "output_type": "stream",
     "text": [
      "   one  two\n",
      "0   10   60\n",
      "1   20   70\n",
      "2   80   80\n",
      "3   40    0\n",
      "4   50   10\n",
      "   one  two\n",
      "0    5   60\n",
      "1   20   70\n",
      "2    3    3\n",
      "3   40    0\n",
      "4   50    5\n",
      "\n"
     ]
    }
   ],
   "source": [
    "df=pd.DataFrame({'one':[10,20,80,40,50],'two':[60,70,80,0,10]})\n",
    "print(df)\n",
    "print(df.replace({10:5,80:3}))\n",
    "print()"
   ]
  },
  {
   "cell_type": "code",
   "execution_count": 27,
   "id": "3deab0c6",
   "metadata": {},
   "outputs": [
    {
     "name": "stdout",
     "output_type": "stream",
     "text": [
      "Original Dataframe:\n",
      "         one       two     three\n",
      "a -0.824124  0.707886  0.262234\n",
      "b -1.627626  2.471193  1.172057\n",
      "c  1.834153 -1.244186 -1.604300\n",
      "d       NaN       NaN       NaN\n",
      "e       NaN       NaN       NaN\n",
      "f  1.412357  0.495270 -1.393545\n",
      "\n",
      "NaN with true fill:\n",
      "\n",
      "a    False\n",
      "b    False\n",
      "c    False\n",
      "d     True\n",
      "e     True\n",
      "f    False\n",
      "Name: one, dtype: bool\n"
     ]
    }
   ],
   "source": [
    "df=pd.DataFrame(np.random.randn(4,3),index=['a','b','c','f'],columns=['one','two','three'])\n",
    "df=df.reindex(['a','b','c','d','e','f'])\n",
    "print(\"Original Dataframe:\\n\",df)\n",
    "print(\"\\nNaN with true fill:\\n\")\n",
    "print(df['one'].isnull())"
   ]
  },
  {
   "cell_type": "code",
   "execution_count": 33,
   "id": "0a685567",
   "metadata": {},
   "outputs": [
    {
     "name": "stdout",
     "output_type": "stream",
     "text": [
      "NaN filled with background values:\n",
      "\n",
      "        one       two     three\n",
      "a -0.050348 -0.891762 -1.105244\n",
      "b -0.845241  1.599163 -2.013917\n",
      "c  0.261864  0.752731 -0.437187\n",
      "d -0.523732  0.214810  0.441877\n",
      "e -0.523732  0.214810  0.441877\n",
      "f -0.523732  0.214810  0.441877\n"
     ]
    }
   ],
   "source": [
    "print(\"NaN filled with background values:\\n\")\n",
    "print(df.fillna(method='bfill'))"
   ]
  },
  {
   "cell_type": "code",
   "execution_count": 34,
   "id": "4800a4fe",
   "metadata": {},
   "outputs": [
    {
     "name": "stdout",
     "output_type": "stream",
     "text": [
      "NaN filled with forward values:\n",
      "\n",
      "        one       two     three\n",
      "a -0.050348 -0.891762 -1.105244\n",
      "b -0.845241  1.599163 -2.013917\n",
      "c  0.261864  0.752731 -0.437187\n",
      "d  0.261864  0.752731 -0.437187\n",
      "e  0.261864  0.752731 -0.437187\n",
      "f -0.523732  0.214810  0.441877\n"
     ]
    }
   ],
   "source": [
    "print(\"NaN filled with forward values:\\n\")\n",
    "print(df.fillna(method='ffill'))"
   ]
  }
 ],
 "metadata": {
  "kernelspec": {
   "display_name": "Python 3 (ipykernel)",
   "language": "python",
   "name": "python3"
  },
  "language_info": {
   "codemirror_mode": {
    "name": "ipython",
    "version": 3
   },
   "file_extension": ".py",
   "mimetype": "text/x-python",
   "name": "python",
   "nbconvert_exporter": "python",
   "pygments_lexer": "ipython3",
   "version": "3.11.4"
  }
 },
 "nbformat": 4,
 "nbformat_minor": 5
}
