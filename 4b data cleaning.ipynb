{
  "nbformat": 4,
  "nbformat_minor": 0,
  "metadata": {
    "colab": {
      "provenance": []
    },
    "kernelspec": {
      "name": "python3",
      "display_name": "Python 3"
    },
    "language_info": {
      "name": "python"
    }
  },
  "cells": [
    {
      "cell_type": "code",
      "execution_count": 3,
      "metadata": {
        "colab": {
          "base_uri": "https://localhost:8080/"
        },
        "id": "Yyh4mnFH1fYD",
        "outputId": "953a8d82-1494-4825-f442-ac7dcb4f3035"
      },
      "outputs": [
        {
          "output_type": "stream",
          "name": "stdout",
          "text": [
            "   S.NO  ROLL NO  ...  SOCIAL  TOTAL\n",
            "0     1        1  ...    87.0    428\n",
            "1     2        2  ...    56.0    402\n",
            "2     3        3  ...    90.0    465\n",
            "3     4        4  ...    76.0    432\n",
            "4     5        5  ...    98.0    453\n",
            "5     6        6  ...     NaN    435\n",
            "6     7        7  ...    85.0    456\n",
            "7     8        8  ...     NaN    465\n",
            "8     9        9  ...    87.0    432\n",
            "9    10       10  ...    88.0    437\n",
            "\n",
            "[10 rows x 8 columns]\n"
          ]
        }
      ],
      "source": [
        "import pandas as pd\n",
        "pd.set_option(\"display.max_column\",5)\n",
        "df=pd.read_excel(\"Marks.xlsx\")\n",
        "print(df)                                                                                                                                                                                                                                                                    n"
      ]
    },
    {
      "cell_type": "code",
      "source": [
        "k=df.fillna(method='pad')\n",
        "print(k)\n",
        "print(\"\\n Updated line\\n\")\n",
        "k.to_excel(\"Marks.xlsx\")"
      ],
      "metadata": {
        "colab": {
          "base_uri": "https://localhost:8080/"
        },
        "id": "tWLtWtkq3zWy",
        "outputId": "84c663d4-776e-466c-fec1-c296e19cdae9"
      },
      "execution_count": 4,
      "outputs": [
        {
          "output_type": "stream",
          "name": "stdout",
          "text": [
            "   S.NO  ROLL NO  ...  SOCIAL  TOTAL\n",
            "0     1        1  ...    87.0    428\n",
            "1     2        2  ...    56.0    402\n",
            "2     3        3  ...    90.0    465\n",
            "3     4        4  ...    76.0    432\n",
            "4     5        5  ...    98.0    453\n",
            "5     6        6  ...    98.0    435\n",
            "6     7        7  ...    85.0    456\n",
            "7     8        8  ...    85.0    465\n",
            "8     9        9  ...    87.0    432\n",
            "9    10       10  ...    88.0    437\n",
            "\n",
            "[10 rows x 8 columns]\n",
            "\n",
            " Updated line\n",
            "\n"
          ]
        },
        {
          "output_type": "stream",
          "name": "stderr",
          "text": [
            "<ipython-input-4-29b3160a591b>:1: FutureWarning: DataFrame.fillna with 'method' is deprecated and will raise in a future version. Use obj.ffill() or obj.bfill() instead.\n",
            "  k=df.fillna(method='pad')\n"
          ]
        }
      ]
    },
    {
      "cell_type": "code",
      "source": [
        "k.drop(['SOCIAL'],axis=1,inplace=True)\n",
        "print(k)\n",
        "k.to_excel(\"Marks.xlsx\")"
      ],
      "metadata": {
        "colab": {
          "base_uri": "https://localhost:8080/"
        },
        "id": "8_jx2wxh4ytN",
        "outputId": "156a88a7-73dc-41d4-a2f4-81cf843f2bb3"
      },
      "execution_count": 5,
      "outputs": [
        {
          "output_type": "stream",
          "name": "stdout",
          "text": [
            "   S.NO  ROLL NO  ...  SCIENCE  TOTAL\n",
            "0     1        1  ...     89.0    428\n",
            "1     2        2  ...     78.0    402\n",
            "2     3        3  ...     90.0    465\n",
            "3     4        4  ...     75.0    432\n",
            "4     5        5  ...     90.0    453\n",
            "5     6        6  ...     56.0    435\n",
            "6     7        7  ...     56.0    456\n",
            "7     8        8  ...     87.0    465\n",
            "8     9        9  ...     87.0    432\n",
            "9    10       10  ...     90.0    437\n",
            "\n",
            "[10 rows x 7 columns]\n"
          ]
        }
      ]
    },
    {
      "cell_type": "code",
      "source": [
        "print(\"\\n Drop NaN row.\\n\")\n",
        "df=pd.read_excel(\"Marks1.xlsx\")\n",
        "print(df)\n",
        "x=df.dropna()\n",
        "print(x)\n",
        "x.to_excel(\"Marks1.xlsx\")"
      ],
      "metadata": {
        "colab": {
          "base_uri": "https://localhost:8080/"
        },
        "id": "EE1w0nn26mox",
        "outputId": "6a453f59-ccba-4df8-b8bd-6c88f6668f2a"
      },
      "execution_count": 8,
      "outputs": [
        {
          "output_type": "stream",
          "name": "stdout",
          "text": [
            "\n",
            " Drop NaN row.\n",
            "\n",
            "   Unnamed: 0  S.NO  ...  SOCIAL  TOTAL\n",
            "0           0     1  ...      87    428\n",
            "1           1     2  ...      56    402\n",
            "2           3     4  ...      76    432\n",
            "3           4     5  ...      98    453\n",
            "4           9    10  ...      88    437\n",
            "\n",
            "[5 rows x 9 columns]\n",
            "   Unnamed: 0  S.NO  ...  SOCIAL  TOTAL\n",
            "0           0     1  ...      87    428\n",
            "1           1     2  ...      56    402\n",
            "2           3     4  ...      76    432\n",
            "3           4     5  ...      98    453\n",
            "4           9    10  ...      88    437\n",
            "\n",
            "[5 rows x 9 columns]\n"
          ]
        }
      ]
    },
    {
      "cell_type": "code",
      "source": [
        "print(\"\\n Replace values.\\n\")\n",
        "n=pd.read_excel(\"Marks.xlsx\")\n",
        "print(n)\n",
        "y=n.replace({89:100})\n",
        "print(y)\n",
        "y.to_excel(\"Marks1.xlsx\")"
      ],
      "metadata": {
        "colab": {
          "base_uri": "https://localhost:8080/"
        },
        "id": "x_TAYHIn8vz0",
        "outputId": "45e511b8-ec53-4915-9c59-2d4eb207083e"
      },
      "execution_count": 11,
      "outputs": [
        {
          "output_type": "stream",
          "name": "stdout",
          "text": [
            "\n",
            " Replace values.\n",
            "\n",
            "   Unnamed: 0.2  Unnamed: 0.1  ...  SCIENCE  TOTAL\n",
            "0             0             0  ...      100    428\n",
            "1             1             1  ...       78    402\n",
            "2             2             2  ...       90    465\n",
            "3             3             3  ...       75    432\n",
            "4             4             4  ...       90    453\n",
            "5             5             5  ...       56    435\n",
            "6             6             6  ...       56    456\n",
            "7             7             7  ...       87    465\n",
            "8             8             8  ...       87    432\n",
            "9             9             9  ...       90    437\n",
            "\n",
            "[10 rows x 10 columns]\n",
            "   Unnamed: 0.2  Unnamed: 0.1  ...  SCIENCE  TOTAL\n",
            "0             0             0  ...      100    428\n",
            "1             1             1  ...       78    402\n",
            "2             2             2  ...       90    465\n",
            "3             3             3  ...       75    432\n",
            "4             4             4  ...       90    453\n",
            "5             5             5  ...       56    435\n",
            "6             6             6  ...       56    456\n",
            "7             7             7  ...       87    465\n",
            "8             8             8  ...       87    432\n",
            "9             9             9  ...       90    437\n",
            "\n",
            "[10 rows x 10 columns]\n"
          ]
        }
      ]
    },
    {
      "cell_type": "code",
      "source": [
        "df=pd.read_excel(\"Marks1.xlsx\")\n",
        "print(df)\n",
        "print(\"\\n Extract is in() function:\\n\")\n",
        "new=df['SCIENCE'].isin([90])\n",
        "print(df[new])"
      ],
      "metadata": {
        "colab": {
          "base_uri": "https://localhost:8080/"
        },
        "id": "B5VDscIk-85g",
        "outputId": "ed0be977-e595-449a-8998-3a7d00e838bf"
      },
      "execution_count": 16,
      "outputs": [
        {
          "output_type": "stream",
          "name": "stdout",
          "text": [
            "   Unnamed: 0.3  Unnamed: 0.2  ...  SCIENCE  TOTAL\n",
            "0             0             0  ...      100    428\n",
            "1             1             1  ...       78    402\n",
            "2             2             2  ...       90    465\n",
            "3             3             3  ...       75    432\n",
            "4             4             4  ...       90    453\n",
            "5             5             5  ...       56    435\n",
            "6             6             6  ...       56    456\n",
            "7             7             7  ...       87    465\n",
            "8             8             8  ...       87    432\n",
            "9             9             9  ...       90    437\n",
            "\n",
            "[10 rows x 11 columns]\n",
            "\n",
            " Extract is in() function:\n",
            "\n",
            "   Unnamed: 0.3  Unnamed: 0.2  ...  SCIENCE  TOTAL\n",
            "2             2             2  ...       90    465\n",
            "4             4             4  ...       90    453\n",
            "9             9             9  ...       90    437\n",
            "\n",
            "[3 rows x 11 columns]\n"
          ]
        }
      ]
    }
  ]
}