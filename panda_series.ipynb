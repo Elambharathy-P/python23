{
  "nbformat": 4,
  "nbformat_minor": 0,
  "metadata": {
    "colab": {
      "provenance": []
    },
    "kernelspec": {
      "name": "python3",
      "display_name": "Python 3"
    },
    "language_info": {
      "name": "python"
    }
  },
  "cells": [
    {
      "cell_type": "code",
      "execution_count": 1,
      "metadata": {
        "colab": {
          "base_uri": "https://localhost:8080/"
        },
        "id": "Ib05WUGZwfBS",
        "outputId": "73acb08f-632b-4115-92c6-2f393e9e3bb6"
      },
      "outputs": [
        {
          "output_type": "stream",
          "name": "stdout",
          "text": [
            "0    s\n",
            "1    a\n",
            "2    i\n",
            "3    s\n",
            "4    r\n",
            "5    i\n",
            "dtype: object\n"
          ]
        }
      ],
      "source": [
        "import pandas as pd\n",
        "import numpy as np\n",
        "arr=np.array(['s','a','i','s','r','i'])\n",
        "a=pd.Series(arr)\n",
        "print(a)"
      ]
    },
    {
      "cell_type": "code",
      "source": [
        "arr={'a':0,'b':1,'c':2}\n",
        "b=pd.Series(arr)\n",
        "print(b)"
      ],
      "metadata": {
        "colab": {
          "base_uri": "https://localhost:8080/"
        },
        "id": "-8cuCDZexVFB",
        "outputId": "32c38949-0c25-4f85-cefb-5d928010360a"
      },
      "execution_count": 2,
      "outputs": [
        {
          "output_type": "stream",
          "name": "stdout",
          "text": [
            "a    0\n",
            "b    1\n",
            "c    2\n",
            "dtype: int64\n"
          ]
        }
      ]
    },
    {
      "cell_type": "code",
      "source": [
        "x=pd.Series(4,index=[0,1,2,3])\n",
        "print(x)"
      ],
      "metadata": {
        "colab": {
          "base_uri": "https://localhost:8080/"
        },
        "id": "kYHY1IJxyQww",
        "outputId": "cbcc2fe8-79ae-4343-91bb-60b0d3b65306"
      },
      "execution_count": 3,
      "outputs": [
        {
          "output_type": "stream",
          "name": "stdout",
          "text": [
            "0    4\n",
            "1    4\n",
            "2    4\n",
            "3    4\n",
            "dtype: int64\n"
          ]
        }
      ]
    },
    {
      "cell_type": "code",
      "source": [
        "arr=pd.Series(['E','L','A','M'])\n",
        "print(arr.values)\n",
        "print(arr.shape)\n",
        "print(arr.ndim)\n",
        "print(arr.size)\n",
        "print(arr.index)"
      ],
      "metadata": {
        "colab": {
          "base_uri": "https://localhost:8080/"
        },
        "id": "VNEaq8n-yri0",
        "outputId": "f9b90d07-8bb4-4956-e26a-893aadaee4ab"
      },
      "execution_count": 7,
      "outputs": [
        {
          "output_type": "stream",
          "name": "stdout",
          "text": [
            "['E' 'L' 'A' 'M']\n",
            "(4,)\n",
            "1\n",
            "4\n",
            "RangeIndex(start=0, stop=4, step=1)\n"
          ]
        }
      ]
    }
  ]
}