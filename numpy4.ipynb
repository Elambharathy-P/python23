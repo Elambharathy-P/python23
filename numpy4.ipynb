{
  "nbformat": 4,
  "nbformat_minor": 0,
  "metadata": {
    "colab": {
      "provenance": []
    },
    "kernelspec": {
      "name": "python3",
      "display_name": "Python 3"
    },
    "language_info": {
      "name": "python"
    }
  },
  "cells": [
    {
      "cell_type": "code",
      "execution_count": null,
      "metadata": {
        "colab": {
          "base_uri": "https://localhost:8080/"
        },
        "id": "yFvtEM9sJra3",
        "outputId": "adfc61b2-e427-4f51-a614-448a029cd8f4"
      },
      "outputs": [
        {
          "output_type": "stream",
          "name": "stdout",
          "text": [
            "[14 38 41 63  9]\n",
            "[120  80 450 490  10]\n",
            "[ 3.33333333 20.          5.55555556 10.         10.        ]\n",
            "1150\n",
            "Result = [ 80 160 200 280  40]\n"
          ]
        }
      ],
      "source": [
        "import numpy as np\n",
        "arr1=[20,40,50,70,10]\n",
        "arr2=[6,2,9,7,1]\n",
        "a=np.array(arr1)\n",
        "b=np.array(arr2)\n",
        "print(a-b)\n",
        "print(a*b)\n",
        "print(a/b)\n",
        "print(a.dot(b))\n",
        "s=4\n",
        "print(\"Result =\",a*s)\n",
        "\n"
      ]
    },
    {
      "cell_type": "code",
      "source": [
        "a=np.array([[10,20],[30,40]])\n",
        "b=np.array([[3,7],[5,9]])\n",
        "print(a%b)"
      ],
      "metadata": {
        "colab": {
          "base_uri": "https://localhost:8080/"
        },
        "id": "1K9aHSSRNHbS",
        "outputId": "c93b9ff3-a3f3-4838-bd1e-f34fa4e8702f"
      },
      "execution_count": null,
      "outputs": [
        {
          "output_type": "stream",
          "name": "stdout",
          "text": [
            "[[1 6]\n",
            " [0 4]]\n"
          ]
        }
      ]
    },
    {
      "cell_type": "code",
      "source": [
        "def my_func(x,y):\n",
        "  if x>y:\n",
        "    return x-y\n",
        "  else:\n",
        "    return x+y\n",
        "import numpy as np\n",
        "a1=[10,7,2]\n",
        "a2=[6,5,3]\n",
        "vect_func=np.vectorize(my_func)\n",
        "print(\"Array 1:\",a1)\n",
        "print(\"Array 2:\",a2)\n",
        "print(\"Result:\",vect_func(a1,a2))\n"
      ],
      "metadata": {
        "colab": {
          "base_uri": "https://localhost:8080/"
        },
        "id": "CEOYao8leBGJ",
        "outputId": "733e00eb-ecf7-4993-ea43-e1679389db19"
      },
      "execution_count": 3,
      "outputs": [
        {
          "output_type": "stream",
          "name": "stdout",
          "text": [
            "Array 1: [10, 7, 2]\n",
            "Array 2: [6, 5, 3]\n",
            "Result: [4 2 5]\n"
          ]
        }
      ]
    }
  ]
}
