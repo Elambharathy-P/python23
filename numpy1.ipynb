{
 "cells": [
  {
   "cell_type": "code",
   "execution_count": 2,
   "id": "ec4b06fe",
   "metadata": {},
   "outputs": [
    {
     "name": "stdout",
     "output_type": "stream",
     "text": [
      "One dimensional array: [10 20 30 40 50]\n"
     ]
    }
   ],
   "source": [
    "import numpy as np\n",
    "a=np.array([10,20,30,40,50])\n",
    "print(\"One dimensional array:\",a)"
   ]
  },
  {
   "cell_type": "code",
   "execution_count": 3,
   "id": "ad4a8b29",
   "metadata": {},
   "outputs": [
    {
     "name": "stdout",
     "output_type": "stream",
     "text": [
      "Two dimensional array: [[ 10  20  30  40  50]\n",
      " [ 60  70  80  90 100]]\n"
     ]
    }
   ],
   "source": [
    "import numpy as np\n",
    "a=np.array([[10,20,30,40,50],[60,70,80,90,100]])\n",
    "print(\"Two dimensional array:\",a)"
   ]
  },
  {
   "cell_type": "code",
   "execution_count": 5,
   "id": "9e0cf671",
   "metadata": {},
   "outputs": [
    {
     "name": "stdout",
     "output_type": "stream",
     "text": [
      "\n",
      " Array with all zeros:\n",
      " [[0. 0. 0. 0. 0.]\n",
      " [0. 0. 0. 0. 0.]\n",
      " [0. 0. 0. 0. 0.]]\n"
     ]
    }
   ],
   "source": [
    "import numpy as np\n",
    "a=np.zeros((3,5))\n",
    "print(\"\\n Array with all zeros:\\n\",a)"
   ]
  },
  {
   "cell_type": "code",
   "execution_count": 6,
   "id": "3e200b40",
   "metadata": {},
   "outputs": [
    {
     "name": "stdout",
     "output_type": "stream",
     "text": [
      "\n",
      " Random value: [[0.87946757 0.63090292 0.82874805]\n",
      " [0.12252681 0.2624025  0.02962696]\n",
      " [0.7313993  0.87696721 0.11412588]]\n"
     ]
    }
   ],
   "source": [
    "import numpy as np\n",
    "d=np.random.random((3,3))\n",
    "print(\"\\n Random value:\",d)"
   ]
  },
  {
   "cell_type": "code",
   "execution_count": 7,
   "id": "729ca4f9",
   "metadata": {},
   "outputs": [
    {
     "name": "stdout",
     "output_type": "stream",
     "text": [
      "\n",
      " Range value :\n",
      " [0 1 2 3 4 5 6 7 8 9]\n"
     ]
    }
   ],
   "source": [
    "import numpy as np\n",
    "e=np.arange(0,10,1)\n",
    "print(\"\\n Range value :\\n\",e)"
   ]
  },
  {
   "cell_type": "code",
   "execution_count": 8,
   "id": "8d0436d3",
   "metadata": {},
   "outputs": [
    {
     "name": "stdout",
     "output_type": "stream",
     "text": [
      "\n",
      " Range value :\n",
      " [0 5]\n"
     ]
    }
   ],
   "source": [
    "import numpy as np\n",
    "e=np.arange(0,10,5)\n",
    "print(\"\\n Range value :\\n\",e)"
   ]
  },
  {
   "cell_type": "code",
   "execution_count": 9,
   "id": "ce412d1f",
   "metadata": {
    "scrolled": true
   },
   "outputs": [
    {
     "name": "stdout",
     "output_type": "stream",
     "text": [
      "\n",
      " Original array: [[1 2 3 4]\n",
      " [5 2 4 2]\n",
      " [1 2 0 1]]\n",
      "\n",
      " Reshaped array: [[1 2 3]\n",
      " [4 5 2]\n",
      " [4 2 1]\n",
      " [2 0 1]]\n"
     ]
    }
   ],
   "source": [
    "import numpy as np\n",
    "arr=np.array([[1,2,3,4],[5,2,4,2],[1,2,0,1]])\n",
    "newarr=arr.reshape((4,3))\n",
    "print(\"\\n Original array:\",arr)\n",
    "print(\"\\n Reshaped array:\",newarr)"
   ]
  },
  {
   "cell_type": "code",
   "execution_count": 1,
   "id": "f2e04b80",
   "metadata": {},
   "outputs": [
    {
     "name": "stdout",
     "output_type": "stream",
     "text": [
      "\n",
      " two dimensional array:  [[ 1  2  3]\n",
      " [ 4  5  6]\n",
      " [ 7  8  9]\n",
      " [10 11 12]\n",
      " [13 14 15]]\n"
     ]
    }
   ],
   "source": [
    "import numpy as np\n",
    "arr=np.array([[1,2,3],[4,5,6],[7,8,9],[10,11,12],[13,14,15]])\n",
    "print(\"\\n two dimensional array: \",arr)"
   ]
  },
  {
   "cell_type": "code",
   "execution_count": 2,
   "id": "f107a403",
   "metadata": {},
   "outputs": [
    {
     "name": "stdout",
     "output_type": "stream",
     "text": [
      "\n",
      " array with all zeros: [[0. 0. 0.]\n",
      " [0. 0. 0.]\n",
      " [0. 0. 0.]\n",
      " [0. 0. 0.]\n",
      " [0. 0. 0.]]\n"
     ]
    }
   ],
   "source": [
    "import numpy as np\n",
    "arr=np.zeros((5,3))\n",
    "print(\"\\n array with all zeros:\",arr)"
   ]
  },
  {
   "cell_type": "code",
   "execution_count": 3,
   "id": "f8c68138",
   "metadata": {},
   "outputs": [
    {
     "name": "stdout",
     "output_type": "stream",
     "text": [
      "\n",
      " array with random numbers: [[0.17307998 0.03179676 0.58544019]\n",
      " [0.80912406 0.12119096 0.29269713]\n",
      " [0.77418531 0.56165481 0.9903929 ]\n",
      " [0.4062107  0.35003166 0.22948258]\n",
      " [0.94771824 0.72426057 0.6619044 ]]\n"
     ]
    }
   ],
   "source": [
    "import numpy as np\n",
    "arr=np.random.random((5,3))\n",
    "print(\"\\n array with random numbers:\",arr)"
   ]
  },
  {
   "cell_type": "code",
   "execution_count": 4,
   "id": "8d334990",
   "metadata": {},
   "outputs": [
    {
     "name": "stdout",
     "output_type": "stream",
     "text": [
      "\n",
      " range value:\n",
      " [ 0  5 10 15]\n"
     ]
    }
   ],
   "source": [
    "import numpy as np\n",
    "arr=np.arange(0,20,5)\n",
    "print(\"\\n range value:\\n\",arr)"
   ]
  },
  {
   "cell_type": "code",
   "execution_count": 2,
   "id": "14118348",
   "metadata": {},
   "outputs": [
    {
     "name": "stdout",
     "output_type": "stream",
     "text": [
      "\n",
      " original array:\n",
      " [[ 1  2  3]\n",
      " [ 4  5  6]\n",
      " [ 7  8  9]\n",
      " [10 11 12]\n",
      " [13 14 15]]\n",
      "\n",
      " reshaped array:\n",
      " [[ 1  2  3  4  5]\n",
      " [ 6  7  8  9 10]\n",
      " [11 12 13 14 15]]\n",
      "\n",
      " No. of dimensions: 2\n",
      "\n",
      " Shape of array: (5, 3)\n",
      "\n",
      " Array element type: int32\n"
     ]
    }
   ],
   "source": [
    "import numpy as np\n",
    "arr=np.array([[1,2,3],[4,5,6],[7,8,9],[10,11,12],[13,14,15]])\n",
    "newarr=arr.reshape((3,5))\n",
    "print(\"\\n original array:\\n\",arr)\n",
    "print(\"\\n reshaped array:\\n\",newarr)\n",
    "print(\"\\n No. of dimensions:\",arr.ndim)\n",
    "print(\"\\n Shape of array:\",arr.shape)\n",
    "print(\"\\n Array element type:\",arr.dtype)"
   ]
  },
  {
   "cell_type": "code",
   "execution_count": 9,
   "id": "25b282a8",
   "metadata": {},
   "outputs": [
    {
     "name": "stdout",
     "output_type": "stream",
     "text": [
      "Flattened array:\n",
      " [ 1  2  3  4  5  6  7  8  9 10 11 12 13 14 15]\n"
     ]
    }
   ],
   "source": [
    "\n",
    "flat=arr.flatten()\n",
    "print(\"Flattened array:\\n\",flat)"
   ]
  },
  {
   "cell_type": "code",
   "execution_count": 9,
   "id": "c469a5d4",
   "metadata": {},
   "outputs": [
    {
     "ename": "NameError",
     "evalue": "name 'arr' is not defined",
     "output_type": "error",
     "traceback": [
      "\u001b[0;31m---------------------------------------------------------------------------\u001b[0m",
      "\u001b[0;31mNameError\u001b[0m                                 Traceback (most recent call last)",
      "Cell \u001b[0;32mIn[9], line 1\u001b[0m\n\u001b[0;32m----> 1\u001b[0m \u001b[38;5;28mprint\u001b[39m(\u001b[38;5;124m\"\u001b[39m\u001b[38;5;130;01m\\n\u001b[39;00m\u001b[38;5;124m No. of dimensions:\u001b[39m\u001b[38;5;124m\"\u001b[39m,arr\u001b[38;5;241m.\u001b[39mndim)\n",
      "\u001b[0;31mNameError\u001b[0m: name 'arr' is not defined"
     ]
    }
   ],
   "source": []
  },
  {
   "cell_type": "code",
   "execution_count": 1,
   "id": "626b43a5",
   "metadata": {},
   "outputs": [
    {
     "ename": "NameError",
     "evalue": "name 'arr' is not defined",
     "output_type": "error",
     "traceback": [
      "\u001b[1;31m---------------------------------------------------------------------------\u001b[0m",
      "\u001b[1;31mNameError\u001b[0m                                 Traceback (most recent call last)",
      "Cell \u001b[1;32mIn[1], line 1\u001b[0m\n\u001b[1;32m----> 1\u001b[0m \u001b[38;5;28mprint\u001b[39m(\u001b[38;5;124m\"\u001b[39m\u001b[38;5;130;01m\\n\u001b[39;00m\u001b[38;5;124m Array element type:\u001b[39m\u001b[38;5;124m\"\u001b[39m,arr\u001b[38;5;241m.\u001b[39mdtype)\n",
      "\u001b[1;31mNameError\u001b[0m: name 'arr' is not defined"
     ]
    }
   ],
   "source": [
    "print(\"\\n Array element type:\",arr.dtype)"
   ]
  },
  {
   "cell_type": "code",
   "execution_count": 4,
   "id": "90bccd81",
   "metadata": {},
   "outputs": [
    {
     "name": "stdout",
     "output_type": "stream",
     "text": [
      "\n",
      " Convert array element\n",
      " [[ 1.  2.  3.]\n",
      " [ 4.  5.  6.]\n",
      " [ 7.  8.  9.]\n",
      " [10. 11. 12.]\n",
      " [13. 14. 15.]]\n",
      "datatype of converted array:\n",
      " float32\n"
     ]
    }
   ],
   "source": [
    "newtype=arr.astype('f')\n",
    "print(\"\\n Convert array element\\n\",newtype)\n",
    "print(\"datatype of converted array:\\n\",newtype.dtype)"
   ]
  },
  {
   "cell_type": "code",
   "execution_count": 6,
   "id": "6923c0bf",
   "metadata": {},
   "outputs": [
    {
     "name": "stdout",
     "output_type": "stream",
     "text": [
      "\n",
      " size of array: 15\n"
     ]
    }
   ],
   "source": [
    "size=len(arr)\n",
    "print(\"\\n size of array:\",arr.size)"
   ]
  },
  {
   "cell_type": "code",
   "execution_count": null,
   "id": "ae5565f7",
   "metadata": {},
   "outputs": [],
   "source": []
  }
 ],
 "metadata": {
  "kernelspec": {
   "display_name": "Python 3 (ipykernel)",
   "language": "python",
   "name": "python3"
  },
  "language_info": {
   "codemirror_mode": {
    "name": "ipython",
    "version": 3
   },
   "file_extension": ".py",
   "mimetype": "text/x-python",
   "name": "python",
   "nbconvert_exporter": "python",
   "pygments_lexer": "ipython3",
   "version": "3.11.3"
  }
 },
 "nbformat": 4,
 "nbformat_minor": 5
}
