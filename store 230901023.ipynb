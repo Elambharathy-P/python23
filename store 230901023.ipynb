{
 "cells": [
  {
   "cell_type": "code",
   "execution_count": 1,
   "id": "f1ccb4e0",
   "metadata": {},
   "outputs": [
    {
     "name": "stdout",
     "output_type": "stream",
     "text": [
      "       a  b  c\n",
      "one    1  2  3\n",
      "two    4  5  6\n",
      "three  7  8  9\n"
     ]
    }
   ],
   "source": [
    "import pandas as pd\n",
    "df=pd.DataFrame([[1,2,3],[4,5,6],[7,8,9]],index=['one','two','three'],columns=['a','b','c'])\n",
    "print(df)"
   ]
  },
  {
   "cell_type": "code",
   "execution_count": 5,
   "id": "c242b60d",
   "metadata": {},
   "outputs": [],
   "source": [
    "df.to_excel(\"E:\\dhananjayan.xlsx\")\n",
    "df.to_excel(\"E:\\dinesh.xlsx\")"
   ]
  },
  {
   "cell_type": "code",
   "execution_count": 8,
   "id": "75b33f5a",
   "metadata": {},
   "outputs": [],
   "source": [
    "df=pd.DataFrame([[10,20,30],[40,50,60],[70,80,90]],index=['four','five','six'],columns=['x','y','z'])\n",
    "df.to_excel(\"E:\\dhananjayan.xlsx\",sheet_name=\"marks\")"
   ]
  },
  {
   "cell_type": "code",
   "execution_count": 9,
   "id": "1e614796",
   "metadata": {},
   "outputs": [],
   "source": [
    "x=pd.read_excel(\"E:\\dhananjayan.xlsx\")\n",
    "y=pd.read_excel(\"E:\\dinesh.xlsx\")\n",
    "#z=x.merge(y)\n",
    "z=pd.concat([x,y])\n",
    "z.to_excel(\"E:\\elan.xlsx\")"
   ]
  },
  {
   "cell_type": "code",
   "execution_count": 12,
   "id": "2dbd4fcd",
   "metadata": {},
   "outputs": [
    {
     "name": "stdout",
     "output_type": "stream",
     "text": [
      "  Unnamed: 0     x     y     z    a    b    c\n",
      "0       four  10.0  20.0  30.0  NaN  NaN  NaN\n",
      "1       five  40.0  50.0  60.0  NaN  NaN  NaN\n",
      "2        six  70.0  80.0  90.0  NaN  NaN  NaN\n",
      "0        one   NaN   NaN   NaN  1.0  2.0  3.0\n",
      "1        two   NaN   NaN   NaN  4.0  5.0  6.0\n",
      "2      three   NaN   NaN   NaN  7.0  8.0  9.0\n",
      "   Unnamed: 0.1 Unnamed: 0     x     y     z    a    b    c\n",
      "0             0       four  10.0  20.0  30.0  NaN  NaN  NaN\n",
      "1             1       five  40.0  50.0  60.0  NaN  NaN  NaN\n",
      "2             2        six  70.0  80.0  90.0  NaN  NaN  NaN\n",
      "3             0        one   NaN   NaN   NaN  1.0  2.0  3.0\n",
      "4             1        two   NaN   NaN   NaN  4.0  5.0  6.0\n",
      "5             2      three   NaN   NaN   NaN  7.0  8.0  9.0\n",
      "['Unnamed: 0.1', 'Unnamed: 0', 'x', 'y', 'z', 'a', 'b', 'c']\n",
      "6\n"
     ]
    }
   ],
   "source": [
    "z=pd.concat([x,y])\n",
    "z.to_excel(\"E:\\dhananjayan.xlsx\")\n",
    "df=z.sort_values([\"x\"])\n",
    "print(df)\n",
    "df.to_excel(\"E:\\dhananjayan.xlsx\")\n",
    "df=pd.read_excel(\"E:\\dinesh.xlsx\")\n",
    "print(df)\n",
    "print(list(df))\n",
    "print(format(len(df)))"
   ]
  }
 ],
 "metadata": {
  "kernelspec": {
   "display_name": "Python 3 (ipykernel)",
   "language": "python",
   "name": "python3"
  },
  "language_info": {
   "codemirror_mode": {
    "name": "ipython",
    "version": 3
   },
   "file_extension": ".py",
   "mimetype": "text/x-python",
   "name": "python",
   "nbconvert_exporter": "python",
   "pygments_lexer": "ipython3",
   "version": "3.11.3"
  }
 },
 "nbformat": 4,
 "nbformat_minor": 5
}
